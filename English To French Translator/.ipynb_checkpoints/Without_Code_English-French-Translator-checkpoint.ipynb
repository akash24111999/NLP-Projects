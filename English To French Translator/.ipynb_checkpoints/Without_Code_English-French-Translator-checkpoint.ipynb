{
 "cells": [
  {
   "cell_type": "markdown",
   "metadata": {
    "id": "L2pukCDIb7yT"
   },
   "source": [
    "# <center><u> <h1>English French-Translator</h1></u></center>\n",
    "\n",
    "Savez-vous comment créer une application de traduction de langue?<br>\n",
    "Did you understand the above sentence?<br>\n",
    "Well after googling it, I found its meaning as:<br>\n",
    "Do you know how to create a language translator app?<br>\n",
    "\n",
    "We all know about Google Translate which allows us to convert from one language to another and it’s very useful for learning and understanding new languages.\n",
    "<br>\n",
    "<br>\n",
    "\n",
    "\n",
    "![](https://daleonai.com/images/2019-11-05-improving-machine-translation-with-the-google-translation-api-advanced/1.png)\n",
    "\n",
    "\n",
    "In this project I aim to convert English phrases to French using RNN on Deep Learning Neural Network"
   ]
  },
  {
   "cell_type": "markdown",
   "metadata": {
    "id": "yva_P1dHb6aH"
   },
   "source": [
    "## Introduction\n",
    "In this notebook, I built a deep neural network that functions as part of an end-to-end machine translation pipeline. The completed pipeline will accept English text as input and return the French translation.\n",
    "\n",
    "Preprocess - I converted text to sequence of integers.\n",
    "Models Create models which accepts a sequence of integers as input and returns a probability distribution over possible translations. \n",
    "Prediction Run the model on English text."
   ]
  },
  {
   "cell_type": "markdown",
   "metadata": {
    "id": "0mRQ1YMcdhMT"
   },
   "source": [
    "Now let's start by importing necessary libraries.\n",
    "- Importing numpy for working with arrays\n",
    "-It then defines a Tokenizer object that will be used to split text into individual words using tensorflow tokenizer. \n",
    "Refer:https://www.tensorflow.org/api_docs/python/tf/keras/preprocessing/text/Tokenizer\n",
    "- pad_sequences is used to ensure that all sequences in a list have the same length.\n",
    "Refer:https://www.tensorflow.org/api_docs/python/tf/keras/preprocessing/sequence/pad_sequences\n",
    "-Keras model represents the actual neural network model.\n",
    "-the Sequential model is a linear stack of layers.\n",
    "-Importing GRU,Input,Dense,TimeDistributed,Activation,RepeatVector,Bidirectional,Dropout,LSTM,Embedding from tensorflow layers.\n",
    "Refer:https://www.tensorflow.org/api_docs/python/tf/keras/layers\n"
   ]
  },
  {
   "cell_type": "code",
   "execution_count": 4,
   "metadata": {
    "id": "1wmao4O0cnLS"
   },
   "outputs": [],
   "source": [
    "#Now import above mentioned libraries \n",
    "import numpy as np\n",
    "import pandas as pd\n",
    "from tensorflow.keras.preprocessing.text import Tokenizer\n",
    "from tensorflow.keras.preprocessing.sequence import pad_sequences\n",
    "from tensorflow.keras.models import Model, Sequential\n",
    "from tensorflow.keras.layers import Input, Dense, TimeDistributed, Activation, RepeatVector, Bidirectional, Dropout, LSTM, Embedding\n",
    "from tensorflow.keras.optimizers import Adam\n",
    "from tensorflow.keras.losses import sparse_categorical_crossentropy\n",
    "import tensorflow as tf"
   ]
  },
  {
   "cell_type": "markdown",
   "metadata": {
    "id": "Aziw3H_Wcyll"
   },
   "source": [
    "## Load Data\n",
    "The data is located in data/small_vocab_en and data/small_vocab_fr. The small_vocab_en file contains English sentences with their French translations in the small_vocab_fr file. Load the English and French data from these files from running the cell below."
   ]
  },
  {
   "cell_type": "code",
   "execution_count": 5,
   "metadata": {
    "id": "cboaEhaZcvm3"
   },
   "outputs": [
    {
     "ename": "AttributeError",
     "evalue": "module 'pandas' has no attribute 'read_text'",
     "output_type": "error",
     "traceback": [
      "\u001b[1;31m---------------------------------------------------------------------------\u001b[0m",
      "\u001b[1;31mAttributeError\u001b[0m                            Traceback (most recent call last)",
      "Cell \u001b[1;32mIn[5], line 3\u001b[0m\n\u001b[0;32m      1\u001b[0m \u001b[38;5;66;03m#load data here\u001b[39;00m\n\u001b[0;32m      2\u001b[0m \u001b[38;5;66;03m#english_data\u001b[39;00m\n\u001b[1;32m----> 3\u001b[0m english_data \u001b[38;5;241m=\u001b[39m pd\u001b[38;5;241m.\u001b[39mread_text(\u001b[38;5;124m\"\u001b[39m\u001b[38;5;124msmall_vocab_en.txt\u001b[39m\u001b[38;5;124m\"\u001b[39m)\n\u001b[0;32m      5\u001b[0m \u001b[38;5;66;03m#french data \u001b[39;00m\n\u001b[0;32m      6\u001b[0m french_data \u001b[38;5;241m=\u001b[39m pd\u001b[38;5;241m.\u001b[39mread_text(\u001b[38;5;124m\"\u001b[39m\u001b[38;5;124msmall_vocab_fr.txt\u001b[39m\u001b[38;5;124m\"\u001b[39m)\n",
      "\u001b[1;31mAttributeError\u001b[0m: module 'pandas' has no attribute 'read_text'"
     ]
    }
   ],
   "source": [
    "#load data here\n",
    "#english_data\n",
    "\n",
    "\n",
    "#french data \n"
   ]
  },
  {
   "cell_type": "markdown",
   "metadata": {
    "id": "qnOhjwXI1VYO"
   },
   "source": [
    "- The OS module in Python provides functions for interacting with the operating system \n",
    "- The code loads the data from a file called input_file. The code then splits the string of text into an array using split(). <br>\n",
    "Then, it uses list comprehension to create a list with each line in the array as its own element. "
   ]
  },
  {
   "cell_type": "code",
   "execution_count": null,
   "metadata": {
    "id": "7ozqkItv1Pd6"
   },
   "outputs": [],
   "source": [
    "#import os\n",
    "\n",
    "#define a function with one parameter path\n",
    "\n",
    "  #join the path with join keyword\n",
    "\n",
    "  #open file and read  as f \n",
    "\n",
    "    #read file \n",
    "\n",
    "  #return with data split(\"\\n\")\n"
   ]
  },
  {
   "cell_type": "markdown",
   "metadata": {
    "id": "kiwjeZzVCMo8"
   },
   "source": [
    "Now loading all english and french data into variables."
   ]
  },
  {
   "cell_type": "code",
   "execution_count": null,
   "metadata": {
    "id": "crFQWCx2eLsv"
   },
   "outputs": [],
   "source": [
    "#Now loading english data\n",
    "\n",
    "#Now loading french data\n"
   ]
  },
  {
   "cell_type": "markdown",
   "metadata": {
    "id": "hw60fkIXgCB4"
   },
   "source": [
    "#Analysis of Dataset\n",
    "Let us look at a few examples in the dataset of both language"
   ]
  },
  {
   "cell_type": "code",
   "execution_count": null,
   "metadata": {
    "colab": {
     "base_uri": "https://localhost:8080/"
    },
    "executionInfo": {
     "elapsed": 19,
     "status": "ok",
     "timestamp": 1643576581828,
     "user": {
      "displayName": "Harsh Shah",
      "photoUrl": "https://lh3.googleusercontent.com/a-/AOh14GhsjDxVj9TyGHzzJHhMwnDDoEO86oODWG-P-xWZJA=s64",
      "userId": "17024393577710317653"
     },
     "user_tz": 480
    },
    "id": "9V_5yFcKgI-4",
    "outputId": "6f2e3891-9ad3-4287-8154-01f96bae4e7f"
   },
   "outputs": [
    {
     "name": "stdout",
     "output_type": "stream",
     "text": [
      "Sample : 0\n",
      "new jersey is sometimes quiet during autumn , and it is snowy in april .\n",
      "new jersey est parfois calme pendant l' automne , et il est neigeux en avril .\n",
      "--------------------------------------------------\n",
      "Sample : 1\n",
      "the united states is usually chilly during july , and it is usually freezing in november .\n",
      "les états-unis est généralement froid en juillet , et il gèle habituellement en novembre .\n",
      "--------------------------------------------------\n",
      "Sample : 2\n",
      "california is usually quiet during march , and it is usually hot in june .\n",
      "california est généralement calme en mars , et il est généralement chaud en juin .\n",
      "--------------------------------------------------\n",
      "Sample : 3\n",
      "the united states is sometimes mild during june , and it is cold in september .\n",
      "les états-unis est parfois légère en juin , et il fait froid en septembre .\n",
      "--------------------------------------------------\n",
      "Sample : 4\n",
      "your least liked fruit is the grape , but my least liked is the apple .\n",
      "votre moins aimé fruit est le raisin , mais mon moins aimé est la pomme .\n",
      "--------------------------------------------------\n"
     ]
    }
   ],
   "source": [
    "#iterate over range of 5 in english and french \n",
    "\n",
    "\n",
    "  #print english sentences\n",
    "\n",
    "  #print french sentences\n",
    "\n"
   ]
  },
  {
   "cell_type": "markdown",
   "metadata": {
    "id": "4EV6ri_Shkff"
   },
   "source": [
    "#Convert to Vocabulary\n",
    "The complexity of the problem is determined by the complexity of the vocabulary. A more complex vocabulary is a more complex problem. Let's look at the complexity of the dataset we'll be working with.\n",
    "\n",
    "A counter is a container that stores elements as dictionary keys, and their counts are stored as dictionary values.<br>\n",
    "Refer:https://docs.python.org/3/library/collections.html"
   ]
  },
  {
   "cell_type": "code",
   "execution_count": null,
   "metadata": {
    "id": "_3fQhJ5J2E4D"
   },
   "outputs": [],
   "source": [
    "#importing collections\n"
   ]
  },
  {
   "cell_type": "code",
   "execution_count": null,
   "metadata": {
    "colab": {
     "base_uri": "https://localhost:8080/"
    },
    "executionInfo": {
     "elapsed": 1872,
     "status": "ok",
     "timestamp": 1643576583689,
     "user": {
      "displayName": "Harsh Shah",
      "photoUrl": "https://lh3.googleusercontent.com/a-/AOh14GhsjDxVj9TyGHzzJHhMwnDDoEO86oODWG-P-xWZJA=s64",
      "userId": "17024393577710317653"
     },
     "user_tz": 480
    },
    "id": "_U3gqv5WhOTy",
    "outputId": "5a852112-2016-488e-adc7-ca546b54f308"
   },
   "outputs": [
    {
     "name": "stdout",
     "output_type": "stream",
     "text": [
      "English Vocab: 227\n",
      "French Vocab: 355\n"
     ]
    }
   ],
   "source": [
    "#we will check for english vocabulary \n",
    "#first we will iterate through english sentence \n",
    "#then we will split that words and then we will use counter function \n",
    "#refer more information in documentation\n",
    "#we done for english vocab \n",
    "#english_words_counter = collections.Counter([word for sentence in english_sentences for word in sentence.split()]) \n",
    "\n"
   ]
  },
  {
   "cell_type": "markdown",
   "metadata": {
    "id": "lsl03eu-jW09"
   },
   "source": [
    "#Tokenize (IMPLEMENTATION)\n",
    "For a neural network to predict on text data, it first has to be turned into data it can understand. Text data like \"dog\" is a sequence of ASCII character encodings. Since a neural network is a series of multiplication and addition operations, the input data needs to be numbers.\n",
    "\n",
    "We can turn each character into a number or each word into a number. These are called character and word ids, respectively. Character ids are used for character level models that generate text predictions for each character. A word level model uses word ids that generate text predictions for each word. Word level models tend to learn better, since they are lower in complexity, so we'll use those.\n",
    "\n",
    "Turn each sentence into a sequence of words ids using Keras's Tokenizer function. Use this function to tokenize english_sentences and french_sentences in the cell below."
   ]
  },
  {
   "cell_type": "code",
   "execution_count": null,
   "metadata": {
    "id": "cYLtZ0WmjTjD"
   },
   "outputs": [],
   "source": [
    "#The code tokenizes a string and returns the tokens as well as the text that was tokenized.\n",
    "#define a function\n",
    "\n",
    "  #create a object of tokenizer\n",
    "\n",
    "  #fit the data \n",
    "\n",
    "  #return the  tokenizer.texts_to_sequences(x), tokenizer\n"
   ]
  },
  {
   "cell_type": "markdown",
   "metadata": {
    "id": "FKiftBNLIttH"
   },
   "source": [
    "- The code starts by tokenizing the text_sentences list into individual sentences.Then, it prints out the word index of each sentence in the text_tokenized list.<br>\n",
    "Next, it iterates through each sentence and prints out a sample output for that sentence."
   ]
  },
  {
   "cell_type": "code",
   "execution_count": null,
   "metadata": {
    "colab": {
     "base_uri": "https://localhost:8080/"
    },
    "executionInfo": {
     "elapsed": 13,
     "status": "ok",
     "timestamp": 1643576583691,
     "user": {
      "displayName": "Harsh Shah",
      "photoUrl": "https://lh3.googleusercontent.com/a-/AOh14GhsjDxVj9TyGHzzJHhMwnDDoEO86oODWG-P-xWZJA=s64",
      "userId": "17024393577710317653"
     },
     "user_tz": 480
    },
    "id": "lkhE2V5bjyg_",
    "outputId": "4c9ae8e8-f7a5-40b5-cfee-7884c3ca9fa5"
   },
   "outputs": [
    {
     "name": "stdout",
     "output_type": "stream",
     "text": [
      "{'the': 1, 'quick': 2, 'a': 3, 'brown': 4, 'fox': 5, 'jumps': 6, 'over': 7, 'lazy': 8, 'dog': 9, 'by': 10, 'jove': 11, 'my': 12, 'study': 13, 'of': 14, 'lexicography': 15, 'won': 16, 'prize': 17, 'this': 18, 'is': 19, 'short': 20, 'sentence': 21}\n",
      "\n",
      "Sequence 1 in x\n",
      "  Input:  The quick brown fox jumps over the lazy dog .\n",
      "  Output: [1, 2, 4, 5, 6, 7, 1, 8, 9]\n",
      "Sequence 2 in x\n",
      "  Input:  By Jove , my quick study of lexicography won a prize .\n",
      "  Output: [10, 11, 12, 2, 13, 14, 15, 16, 3, 17]\n",
      "Sequence 3 in x\n",
      "  Input:  This is a short sentence .\n",
      "  Output: [18, 19, 3, 20, 21]\n"
     ]
    }
   ],
   "source": [
    "# Tokenize Sample output\n",
    "text_sentences = [\n",
    "    'The quick brown fox jumps over the lazy dog .',\n",
    "    'By Jove , my quick study of lexicography won a prize .',\n",
    "    'This is a short sentence .']\n",
    "\n",
    "#pass the sample text into tokenize[text_tokenized, text_tokenizer = tokenize(text_sentences)]\n",
    "\n",
    "#print text_tokenizer.word_index \n",
    "\n",
    "\n",
    "#iterate over sample text and text_tokeinzed\n",
    "\n",
    "  #print sequence\n",
    "\n",
    "  #print input\n",
    "\n",
    "  #print Output\n"
   ]
  },
  {
   "cell_type": "markdown",
   "metadata": {
    "id": "cfiSCxQ7kRK3"
   },
   "source": [
    "#Padding (IMPLEMENTATION)\n",
    "When batching the sequence of word ids together, each sequence needs to be the same length. Since sentences are dynamic in length, we can add padding to the end of the sequences to make them the same length.\n",
    "\n",
    "Make sure all the English sequences have the same length and all the French sequences have the same length by adding padding to the end of each sequence using Keras's pad_sequences function."
   ]
  },
  {
   "cell_type": "code",
   "execution_count": null,
   "metadata": {
    "id": "6Daf_ngukNIS"
   },
   "outputs": [],
   "source": [
    "#define a pad function and pass the x parameter \n",
    "\n",
    "  #return pad_sequences with x and maxlength and keep padding =post\n"
   ]
  },
  {
   "cell_type": "markdown",
   "metadata": {
    "id": "0LMUzdBGKei0"
   },
   "source": [
    "- The code is used to preprocess the input data set. - The tokenize function splits the text into individual tokens, which are then passed to a function called pad that takes in a list of tokens and pads them with a specified character (in this case, spaces)."
   ]
  },
  {
   "cell_type": "code",
   "execution_count": null,
   "metadata": {
    "colab": {
     "base_uri": "https://localhost:8080/"
    },
    "executionInfo": {
     "elapsed": 20116,
     "status": "ok",
     "timestamp": 1643576603799,
     "user": {
      "displayName": "Harsh Shah",
      "photoUrl": "https://lh3.googleusercontent.com/a-/AOh14GhsjDxVj9TyGHzzJHhMwnDDoEO86oODWG-P-xWZJA=s64",
      "userId": "17024393577710317653"
     },
     "user_tz": 480
    },
    "id": "9LHAL30ik5x4",
    "outputId": "45b654e6-301a-445e-e4bb-78a93f46f199"
   },
   "outputs": [
    {
     "name": "stdout",
     "output_type": "stream",
     "text": [
      "Data Preprocessed\n",
      "Max English sentence length: 15\n",
      "Max French sentence length: 21\n",
      "English vocabulary size: 199\n",
      "French vocabulary size: 344\n"
     ]
    }
   ],
   "source": [
    "#define preproces function with x and y \n",
    "\n",
    "    #preproces the data of x\n",
    "\n",
    "    #preproces the data of y\n",
    "\n",
    "\n",
    "    #padding the data x\n",
    "\n",
    "    #padding the data y\n",
    "\n",
    "\n",
    "    # Keras's sparse_categorical_crossentropy function requires the labels to be in 3 dimensions\n",
    "    #Expanding dimensions\n",
    "\n",
    "\n",
    "    #return preprocess_x, preprocess_y, x_tk, y_tk\n",
    "\n",
    "\n",
    "#preproc_english_sentences, preproc_french_sentences, english_tokenizer, french_tokenizer =\\\n",
    "    #preprocess(english_sentences, french_sentences)\n",
    "\n",
    "\n",
    "#print Max English sentence length \n",
    "\n",
    "#print Max french sentence length \n",
    "\n",
    "#print len of english vocabulary\n",
    "\n",
    "#print len of french vocabulary\n",
    "\n",
    "\n",
    "\n",
    "\n"
   ]
  },
  {
   "cell_type": "markdown",
   "metadata": {
    "id": "6n7i4rD_22_J"
   },
   "source": [
    "#Create Model\n",
    "\n",
    "In this section, you will experiment with various neural network architectures. You will begin by training four relatively simple architectures.\n",
    "\n",
    "Model 1 is a simple RNN\n",
    "Model 2 is a RNN with Embedding\n",
    "Model 3 is a Bidirectional RNN\n",
    "Model 4 is an optional Encoder-Decoder RNN\n",
    "After experimenting with the four simple architectures, you will construct a deeper architecture that is designed to outperform all four models."
   ]
  },
  {
   "cell_type": "markdown",
   "metadata": {
    "id": "TSLZv-O_3Bgq"
   },
   "source": [
    "## Ids Back to Text\n",
    "The neural network will be translating the input to words ids, which isn't the final form we want. We want the French translation. The function logits_to_text will bridge the gab between the logits from the neural network to the French translation. You'll be using this function to better understand the output of the neural network."
   ]
  },
  {
   "cell_type": "code",
   "execution_count": null,
   "metadata": {
    "id": "7BDBJKw22yJa"
   },
   "outputs": [],
   "source": [
    "#define a function of logits to text with 2 parameters logits, tokenizer\n",
    "\n",
    "\n",
    "  #vThe code takes in an index_to_words dictionary which maps each word to its corresponding id. - \n",
    "  #Then, it uses this dictionary to find all the words with ids 0-9 and prints them\n",
    "\n",
    "  #make index_to_words[0] = '<PAD>'\n",
    "\n",
    "\n",
    "  #So basically we are predicting output for a given word and then selecting best answer\n",
    "  #Then selecting that label we reverse-enumerate the word from id\n"
   ]
  },
  {
   "cell_type": "markdown",
   "metadata": {
    "id": "Mbg5kGAY3cvT"
   },
   "source": [
    "![Model](https://github.com/tommytracey/AIND-Capstone/raw/8267d4fe72e48c595a0aff46eaf0a805fff0f36d/images/embedding.png)"
   ]
  },
  {
   "cell_type": "markdown",
   "metadata": {
    "id": "HN-RjzvH3rpp"
   },
   "source": [
    "#Building Model\n",
    "Here we use RNN model combined with GRU nodes for translation\n",
    "\n",
    "- The code starts by defining the input shape and output sequence length.Next, it defines the number of unique English words in the dataset and French words in the dataset.The code then builds a Keras model using word embedding on x and y.It also sets hyperparameters for learning rate, which is 0.005, as well as building layers for this model.Finally, it compiles this model with sparse_categorical_crossentropy loss function and Adam optimizer with learning rate set to 0.005. The code will create a Keras model that has been trained to recognize words in English and French."
   ]
  },
  {
   "cell_type": "code",
   "execution_count": null,
   "metadata": {
    "id": "ta5yGpZ23amq"
   },
   "outputs": [],
   "source": [
    "def embed_model(input_shape, output_sequence_length, english_vocab_size, french_vocab_size):\n",
    "    \"\"\"\n",
    "    Build and train a RNN model using word embedding on x and y\n",
    "    :param input_shape: Tuple of input shape\n",
    "    :param output_sequence_length: Length of output sequence\n",
    "    :param english_vocab_size: Number of unique English words in the dataset\n",
    "    :param french_vocab_size: Number of unique French words in the dataset\n",
    "    :return: Keras model built, but not trained\n",
    "    \"\"\"\n",
    "    # TODO: Implement\n",
    "\n",
    "    # Hyperparameters\n",
    "    #learning_rate = 0.005\n",
    "\n",
    "    \n",
    "    # TODO: Build the layers\n",
    "    #create model Sequential \n",
    "\n",
    "    #add embedding layer with english_vocab_size, 256, input_length=input_shape[1], input_shape=input_shape[1:]\n",
    "\n",
    "    #add GRU layer of 256\n",
    "\n",
    "    #add TimeDistribute layer dense of 1024 and applying of activation function of relu\n",
    "\n",
    "    #adding dropout layer\n",
    "\n",
    "    #add TimeDistributed Dense layer of french_vocab_size and applying softmax activation function\n",
    "\n",
    "\n",
    "    # Compile model\n",
    "    # with loss function of activation function with adam optimizer and accuaray metrix\n",
    "\n",
    "\n",
    "\n",
    "    #return model \n",
    "    "
   ]
  },
  {
   "cell_type": "code",
   "execution_count": null,
   "metadata": {
    "id": "ubkWXBpu32Jh"
   },
   "outputs": [],
   "source": [
    "# Reshaping the input to work with a basic RNN \n",
    "#tmp_x = pad(preproc_english_sentences, preproc_french_sentences.shape[1])\n",
    "\n",
    "#tmp_x = tmp_x.reshape((-1, preproc_french_sentences.shape[-2]))\n"
   ]
  },
  {
   "cell_type": "markdown",
   "metadata": {
    "id": "2NXsCzht3-1y"
   },
   "source": [
    "Finally calling the model function"
   ]
  },
  {
   "cell_type": "code",
   "execution_count": null,
   "metadata": {
    "id": "8B9QZgl738qJ"
   },
   "outputs": [],
   "source": [
    "#calling our model \n",
    "#with tmp_x.shape, preproc_french_sentences.shape[1], len(english_tokenizer.word_index)+1,len(french_tokenizer.word_index)+1)\n",
    "\n",
    "\n",
    "\n",
    "\n",
    "\n"
   ]
  },
  {
   "cell_type": "markdown",
   "metadata": {
    "id": "301fqre_WAuU"
   },
   "source": [
    "Printing model summary "
   ]
  },
  {
   "cell_type": "code",
   "execution_count": null,
   "metadata": {
    "colab": {
     "base_uri": "https://localhost:8080/"
    },
    "executionInfo": {
     "elapsed": 18,
     "status": "ok",
     "timestamp": 1643576606538,
     "user": {
      "displayName": "Harsh Shah",
      "photoUrl": "https://lh3.googleusercontent.com/a-/AOh14GhsjDxVj9TyGHzzJHhMwnDDoEO86oODWG-P-xWZJA=s64",
      "userId": "17024393577710317653"
     },
     "user_tz": 480
    },
    "id": "R-2dQpBQ4EZa",
    "outputId": "8ab27e76-6984-4f2b-80a2-41e744081227"
   },
   "outputs": [
    {
     "name": "stdout",
     "output_type": "stream",
     "text": [
      "Model: \"sequential_1\"\n",
      "_________________________________________________________________\n",
      "Layer (type)                 Output Shape              Param #   \n",
      "=================================================================\n",
      "embedding_1 (Embedding)      (None, 21, 256)           51200     \n",
      "_________________________________________________________________\n",
      "gru_1 (GRU)                  (None, 21, 256)           394752    \n",
      "_________________________________________________________________\n",
      "time_distributed_2 (TimeDist (None, 21, 1024)          263168    \n",
      "_________________________________________________________________\n",
      "dropout_1 (Dropout)          (None, 21, 1024)          0         \n",
      "_________________________________________________________________\n",
      "time_distributed_3 (TimeDist (None, 21, 345)           353625    \n",
      "=================================================================\n",
      "Total params: 1,062,745\n",
      "Trainable params: 1,062,745\n",
      "Non-trainable params: 0\n",
      "_________________________________________________________________\n"
     ]
    }
   ],
   "source": [
    "#print Model summary \n"
   ]
  },
  {
   "cell_type": "markdown",
   "metadata": {
    "id": "tMDG7ttA4JGS"
   },
   "source": [
    "#Training the model\n",
    "Here we start to train the model and pass the english text and the max_sequence_length, with vocab size for both english and french text"
   ]
  },
  {
   "cell_type": "code",
   "execution_count": null,
   "metadata": {
    "colab": {
     "base_uri": "https://localhost:8080/"
    },
    "executionInfo": {
     "elapsed": 291354,
     "status": "ok",
     "timestamp": 1643576897885,
     "user": {
      "displayName": "Harsh Shah",
      "photoUrl": "https://lh3.googleusercontent.com/a-/AOh14GhsjDxVj9TyGHzzJHhMwnDDoEO86oODWG-P-xWZJA=s64",
      "userId": "17024393577710317653"
     },
     "user_tz": 480
    },
    "id": "fY7037yU4HCp",
    "outputId": "8578aad3-dba0-4930-8327-f00c7d0e0f94"
   },
   "outputs": [
    {
     "name": "stdout",
     "output_type": "stream",
     "text": [
      "Train on 110288 samples, validate on 27572 samples\n",
      "Epoch 1/20\n",
      "110288/110288 [==============================] - 18s 166us/sample - loss: 1.3575 - accuracy: 0.6801 - val_loss: 0.4622 - val_accuracy: 0.8495\n",
      "Epoch 2/20\n",
      "110288/110288 [==============================] - 15s 138us/sample - loss: 0.3948 - accuracy: 0.8705 - val_loss: 0.2911 - val_accuracy: 0.9011\n",
      "Epoch 3/20\n",
      "110288/110288 [==============================] - 14s 131us/sample - loss: 0.2839 - accuracy: 0.9050 - val_loss: 0.2314 - val_accuracy: 0.9213\n",
      "Epoch 4/20\n",
      "110288/110288 [==============================] - 15s 132us/sample - loss: 0.2372 - accuracy: 0.9194 - val_loss: 0.2113 - val_accuracy: 0.9265\n",
      "Epoch 5/20\n",
      "110288/110288 [==============================] - 14s 131us/sample - loss: 0.2172 - accuracy: 0.9252 - val_loss: 0.1991 - val_accuracy: 0.9307\n",
      "Epoch 6/20\n",
      "110288/110288 [==============================] - 14s 131us/sample - loss: 0.2031 - accuracy: 0.9295 - val_loss: 0.1943 - val_accuracy: 0.9327\n",
      "Epoch 7/20\n",
      "110288/110288 [==============================] - 15s 132us/sample - loss: 0.1936 - accuracy: 0.9320 - val_loss: 0.1926 - val_accuracy: 0.9331\n",
      "Epoch 8/20\n",
      "110288/110288 [==============================] - 14s 130us/sample - loss: 0.1873 - accuracy: 0.9336 - val_loss: 0.1860 - val_accuracy: 0.9351\n",
      "Epoch 9/20\n",
      "110288/110288 [==============================] - 14s 130us/sample - loss: 0.1820 - accuracy: 0.9351 - val_loss: 0.1830 - val_accuracy: 0.9357\n",
      "Epoch 10/20\n",
      "110288/110288 [==============================] - 14s 130us/sample - loss: 0.1777 - accuracy: 0.9365 - val_loss: 0.1776 - val_accuracy: 0.9376\n",
      "Epoch 11/20\n",
      "110288/110288 [==============================] - 14s 130us/sample - loss: 0.1741 - accuracy: 0.9372 - val_loss: 0.1820 - val_accuracy: 0.9366\n",
      "Epoch 12/20\n",
      "110288/110288 [==============================] - 14s 130us/sample - loss: 0.1751 - accuracy: 0.9370 - val_loss: 0.1817 - val_accuracy: 0.9368\n",
      "Epoch 13/20\n",
      "110288/110288 [==============================] - 14s 130us/sample - loss: 0.1731 - accuracy: 0.9373 - val_loss: 0.1774 - val_accuracy: 0.9382\n",
      "Epoch 14/20\n",
      "110288/110288 [==============================] - 14s 130us/sample - loss: 0.1694 - accuracy: 0.9386 - val_loss: 0.1773 - val_accuracy: 0.9379\n",
      "Epoch 15/20\n",
      "110288/110288 [==============================] - 14s 129us/sample - loss: 0.1692 - accuracy: 0.9383 - val_loss: 0.1803 - val_accuracy: 0.9376\n",
      "Epoch 16/20\n",
      "110288/110288 [==============================] - 14s 129us/sample - loss: 0.1720 - accuracy: 0.9377 - val_loss: 0.1793 - val_accuracy: 0.9375\n",
      "Epoch 17/20\n",
      "110288/110288 [==============================] - 14s 129us/sample - loss: 0.1676 - accuracy: 0.9390 - val_loss: 0.1787 - val_accuracy: 0.9386\n",
      "Epoch 18/20\n",
      "110288/110288 [==============================] - 14s 129us/sample - loss: 0.1626 - accuracy: 0.9402 - val_loss: 0.1783 - val_accuracy: 0.9389\n",
      "Epoch 19/20\n",
      "110288/110288 [==============================] - 14s 130us/sample - loss: 0.1636 - accuracy: 0.9399 - val_loss: 0.1793 - val_accuracy: 0.9380\n",
      "Epoch 20/20\n",
      "110288/110288 [==============================] - 14s 129us/sample - loss: 0.1631 - accuracy: 0.9400 - val_loss: 0.1811 - val_accuracy: 0.9386\n"
     ]
    }
   ],
   "source": [
    "#model train with tmp_x, preproc_french_sentences, batch_size=1024, epochs=20, validation_split=0.2 \n"
   ]
  },
  {
   "cell_type": "markdown",
   "metadata": {
    "id": "HodMPRh1WNys"
   },
   "source": [
    "#Saving our model"
   ]
  },
  {
   "cell_type": "code",
   "execution_count": null,
   "metadata": {
    "id": "Um2UZ6EbSge9"
   },
   "outputs": [],
   "source": [
    "#save our model \n"
   ]
  },
  {
   "cell_type": "markdown",
   "metadata": {
    "id": "Lg0KtRlXBHPE"
   },
   "source": [
    "#Arbitrary Predictions\n",
    "Performing predictions on the models using User Input."
   ]
  },
  {
   "cell_type": "code",
   "execution_count": null,
   "metadata": {
    "id": "ys8_8FhABNfx"
   },
   "outputs": [],
   "source": [
    "#define a function for final_predictions with text timetable.\n",
    "\n",
    "\n",
    "  #converting y_ids to words [y_id_to_word = {value: key for key, value in french_tokenizer.word_index.items()}]\n",
    "\n",
    "  #y_id_to_word[0] = '<PAD>'\n",
    "\n",
    "  \n",
    "  #spliting our english word and tokezing \n",
    "\n",
    "  #padding our sentences\n",
    " \n",
    "  #converting into text \n",
    "\n",
    "  #avoiding of <PAD> part in output \n",
    "  #create a variable of text \n",
    "\n",
    "  #iterate over text split\n",
    "\n",
    "    #if i == <pad>\n",
    "\n",
    "      #then break \n",
    "\n",
    "    #else\n",
    "\n",
    "      #text2=text2+\" \"+i\n",
    "\n",
    "  #return text \n"
   ]
  },
  {
   "cell_type": "markdown",
   "metadata": {
    "id": "aNJp0UldE2g6"
   },
   "source": [
    "#Implementation\n",
    "Enter your input here to get predictions. We will using Gradio for implementation part. Refer video for detailed information "
   ]
  },
  {
   "cell_type": "code",
   "execution_count": null,
   "metadata": {
    "colab": {
     "base_uri": "https://localhost:8080/",
     "height": 321
    },
    "executionInfo": {
     "elapsed": 50,
     "status": "ok",
     "timestamp": 1643637324116,
     "user": {
      "displayName": "Harsh Shah",
      "photoUrl": "https://lh3.googleusercontent.com/a-/AOh14GhsjDxVj9TyGHzzJHhMwnDDoEO86oODWG-P-xWZJA=s64",
      "userId": "17024393577710317653"
     },
     "user_tz": -330
    },
    "id": "P0gKqC_waXC8",
    "outputId": "073e5d34-0099-46a9-e1ec-e9b9f026d2af"
   },
   "outputs": [
    {
     "data": {
      "image/jpeg": "[encoded data removed]",
      "text/html": [
       "\n",
       "        <iframe\n",
       "            width=\"600\"\n",
       "            height=\"300\"\n",
       "            src=\"https://www.youtube.com/embed/RiCQzBluTxU\"\n",
       "            frameborder=\"0\"\n",
       "            allowfullscreen\n",
       "        ></iframe>\n",
       "        "
      ],
      "text/plain": [
       "<IPython.lib.display.YouTubeVideo at 0x7f38b4e7afd0>"
      ]
     },
     "execution_count": 1,
     "metadata": {},
     "output_type": "execute_result"
    }
   ],
   "source": [
    "####Refer Video \n",
    "from IPython.display import YouTubeVideo\n",
    "YouTubeVideo('RiCQzBluTxU', width=600, height=300)"
   ]
  },
  {
   "cell_type": "code",
   "execution_count": null,
   "metadata": {
    "colab": {
     "base_uri": "https://localhost:8080/"
    },
    "executionInfo": {
     "elapsed": 3015,
     "status": "ok",
     "timestamp": 1643576901766,
     "user": {
      "displayName": "Harsh Shah",
      "photoUrl": "https://lh3.googleusercontent.com/a-/AOh14GhsjDxVj9TyGHzzJHhMwnDDoEO86oODWG-P-xWZJA=s64",
      "userId": "17024393577710317653"
     },
     "user_tz": 480
    },
    "id": "ydqiUysprgoA",
    "outputId": "aefa9ab1-f0d8-4302-cb44-969b766ec8dd"
   },
   "outputs": [
    {
     "name": "stdout",
     "output_type": "stream",
     "text": [
      "Requirement already satisfied: gradio in /usr/local/lib/python3.7/dist-packages (2.7.5.2)\n",
      "Requirement already satisfied: matplotlib in /usr/local/lib/python3.7/dist-packages (from gradio) (3.2.2)\n",
      "Requirement already satisfied: markdown2 in /usr/local/lib/python3.7/dist-packages (from gradio) (2.4.2)\n",
      "Requirement already satisfied: paramiko in /usr/local/lib/python3.7/dist-packages (from gradio) (2.9.2)\n",
      "Requirement already satisfied: aiohttp in /usr/local/lib/python3.7/dist-packages (from gradio) (3.8.1)\n",
      "Requirement already satisfied: python-multipart in /usr/local/lib/python3.7/dist-packages (from gradio) (0.0.5)\n",
      "Requirement already satisfied: requests in /usr/local/lib/python3.7/dist-packages (from gradio) (2.23.0)\n",
      "Requirement already satisfied: ffmpy in /usr/local/lib/python3.7/dist-packages (from gradio) (0.3.0)\n",
      "Requirement already satisfied: numpy in /usr/local/lib/python3.7/dist-packages (from gradio) (1.19.5)\n",
      "Requirement already satisfied: uvicorn in /usr/local/lib/python3.7/dist-packages (from gradio) (0.17.1)\n",
      "Requirement already satisfied: pydub in /usr/local/lib/python3.7/dist-packages (from gradio) (0.25.1)\n",
      "Requirement already satisfied: fastapi in /usr/local/lib/python3.7/dist-packages (from gradio) (0.73.0)\n",
      "Requirement already satisfied: pillow in /usr/local/lib/python3.7/dist-packages (from gradio) (7.1.2)\n",
      "Requirement already satisfied: pycryptodome in /usr/local/lib/python3.7/dist-packages (from gradio) (3.13.0)\n",
      "Requirement already satisfied: analytics-python in /usr/local/lib/python3.7/dist-packages (from gradio) (1.4.0)\n",
      "Requirement already satisfied: pandas in /usr/local/lib/python3.7/dist-packages (from gradio) (1.1.5)\n",
      "Requirement already satisfied: async-timeout<5.0,>=4.0.0a3 in /usr/local/lib/python3.7/dist-packages (from aiohttp->gradio) (4.0.2)\n",
      "Requirement already satisfied: typing-extensions>=3.7.4 in /usr/local/lib/python3.7/dist-packages (from aiohttp->gradio) (3.10.0.2)\n",
      "Requirement already satisfied: asynctest==0.13.0 in /usr/local/lib/python3.7/dist-packages (from aiohttp->gradio) (0.13.0)\n",
      "Requirement already satisfied: multidict<7.0,>=4.5 in /usr/local/lib/python3.7/dist-packages (from aiohttp->gradio) (6.0.2)\n",
      "Requirement already satisfied: frozenlist>=1.1.1 in /usr/local/lib/python3.7/dist-packages (from aiohttp->gradio) (1.3.0)\n",
      "Requirement already satisfied: yarl<2.0,>=1.0 in /usr/local/lib/python3.7/dist-packages (from aiohttp->gradio) (1.7.2)\n",
      "Requirement already satisfied: attrs>=17.3.0 in /usr/local/lib/python3.7/dist-packages (from aiohttp->gradio) (21.4.0)\n",
      "Requirement already satisfied: charset-normalizer<3.0,>=2.0 in /usr/local/lib/python3.7/dist-packages (from aiohttp->gradio) (2.0.10)\n",
      "Requirement already satisfied: aiosignal>=1.1.2 in /usr/local/lib/python3.7/dist-packages (from aiohttp->gradio) (1.2.0)\n",
      "Requirement already satisfied: idna>=2.0 in /usr/local/lib/python3.7/dist-packages (from yarl<2.0,>=1.0->aiohttp->gradio) (2.10)\n",
      "Requirement already satisfied: backoff==1.10.0 in /usr/local/lib/python3.7/dist-packages (from analytics-python->gradio) (1.10.0)\n",
      "Requirement already satisfied: monotonic>=1.5 in /usr/local/lib/python3.7/dist-packages (from analytics-python->gradio) (1.6)\n",
      "Requirement already satisfied: python-dateutil>2.1 in /usr/local/lib/python3.7/dist-packages (from analytics-python->gradio) (2.8.2)\n",
      "Requirement already satisfied: six>=1.5 in /usr/local/lib/python3.7/dist-packages (from analytics-python->gradio) (1.15.0)\n",
      "Requirement already satisfied: certifi>=2017.4.17 in /usr/local/lib/python3.7/dist-packages (from requests->gradio) (2021.10.8)\n",
      "Requirement already satisfied: chardet<4,>=3.0.2 in /usr/local/lib/python3.7/dist-packages (from requests->gradio) (3.0.4)\n",
      "Requirement already satisfied: urllib3!=1.25.0,!=1.25.1,<1.26,>=1.21.1 in /usr/local/lib/python3.7/dist-packages (from requests->gradio) (1.24.3)\n",
      "Requirement already satisfied: starlette==0.17.1 in /usr/local/lib/python3.7/dist-packages (from fastapi->gradio) (0.17.1)\n",
      "Requirement already satisfied: pydantic!=1.7,!=1.7.1,!=1.7.2,!=1.7.3,!=1.8,!=1.8.1,<2.0.0,>=1.6.2 in /usr/local/lib/python3.7/dist-packages (from fastapi->gradio) (1.9.0)\n",
      "Requirement already satisfied: anyio<4,>=3.0.0 in /usr/local/lib/python3.7/dist-packages (from starlette==0.17.1->fastapi->gradio) (3.5.0)\n",
      "Requirement already satisfied: sniffio>=1.1 in /usr/local/lib/python3.7/dist-packages (from anyio<4,>=3.0.0->starlette==0.17.1->fastapi->gradio) (1.2.0)\n",
      "Requirement already satisfied: cycler>=0.10 in /usr/local/lib/python3.7/dist-packages (from matplotlib->gradio) (0.11.0)\n",
      "Requirement already satisfied: kiwisolver>=1.0.1 in /usr/local/lib/python3.7/dist-packages (from matplotlib->gradio) (1.3.2)\n",
      "Requirement already satisfied: pyparsing!=2.0.4,!=2.1.2,!=2.1.6,>=2.0.1 in /usr/local/lib/python3.7/dist-packages (from matplotlib->gradio) (3.0.7)\n",
      "Requirement already satisfied: pytz>=2017.2 in /usr/local/lib/python3.7/dist-packages (from pandas->gradio) (2018.9)\n",
      "Requirement already satisfied: bcrypt>=3.1.3 in /usr/local/lib/python3.7/dist-packages (from paramiko->gradio) (3.2.0)\n",
      "Requirement already satisfied: cryptography>=2.5 in /usr/local/lib/python3.7/dist-packages (from paramiko->gradio) (36.0.1)\n",
      "Requirement already satisfied: pynacl>=1.0.1 in /usr/local/lib/python3.7/dist-packages (from paramiko->gradio) (1.5.0)\n",
      "Requirement already satisfied: cffi>=1.1 in /usr/local/lib/python3.7/dist-packages (from bcrypt>=3.1.3->paramiko->gradio) (1.15.0)\n",
      "Requirement already satisfied: pycparser in /usr/local/lib/python3.7/dist-packages (from cffi>=1.1->bcrypt>=3.1.3->paramiko->gradio) (2.21)\n",
      "Requirement already satisfied: click>=7.0 in /usr/local/lib/python3.7/dist-packages (from uvicorn->gradio) (7.1.2)\n",
      "Requirement already satisfied: asgiref>=3.4.0 in /usr/local/lib/python3.7/dist-packages (from uvicorn->gradio) (3.5.0)\n",
      "Requirement already satisfied: h11>=0.8 in /usr/local/lib/python3.7/dist-packages (from uvicorn->gradio) (0.13.0)\n"
     ]
    }
   ],
   "source": [
    "#pip install gradio \n"
   ]
  },
  {
   "cell_type": "markdown",
   "metadata": {
    "id": "0tURKFZaa6Gy"
   },
   "source": [
    "After installing, we import gradio as gr"
   ]
  },
  {
   "cell_type": "code",
   "execution_count": null,
   "metadata": {
    "id": "-G4RUS7HbDv6"
   },
   "outputs": [],
   "source": [
    "#impprt gradio as gr \n"
   ]
  },
  {
   "cell_type": "markdown",
   "metadata": {
    "id": "CPNaXvU_bu3O"
   },
   "source": [
    "- The code creates an interface with a function called final_predictions. - The inputs of the interface are a textbox that has two lines and a placeholder, which is \"Text to translate\". - The outputs of the interface are \"text\". - The code launches the program in debug mode."
   ]
  },
  {
   "cell_type": "code",
   "execution_count": null,
   "metadata": {
    "colab": {
     "base_uri": "https://localhost:8080/",
     "height": 1000
    },
    "executionInfo": {
     "elapsed": 254403,
     "status": "ok",
     "timestamp": 1643528810107,
     "user": {
      "displayName": "Harsh Shah",
      "photoUrl": "https://lh3.googleusercontent.com/a-/AOh14GhsjDxVj9TyGHzzJHhMwnDDoEO86oODWG-P-xWZJA=s64",
      "userId": "17024393577710317653"
     },
     "user_tz": -330
    },
    "id": "0eAJ2TuFpKKU",
    "outputId": "6da6ac63-e5c6-45b7-9466-ca6268cdc03f"
   },
   "outputs": [
    {
     "name": "stdout",
     "output_type": "stream",
     "text": [
      "Colab notebook detected. This cell will run indefinitely so that you can see errors and logs. To turn off, set debug=False in launch().\n",
      "Running on public URL: https://34921.gradio.app\n",
      "\n",
      "This share link expires in 72 hours. For free permanent hosting, check out Spaces (https://huggingface.co/spaces)\n"
     ]
    },
    {
     "data": {
      "text/html": [
       "\n",
       "        <iframe\n",
       "            width=\"900\"\n",
       "            height=\"500\"\n",
       "            src=\"https://34921.gradio.app\"\n",
       "            frameborder=\"0\"\n",
       "            allowfullscreen\n",
       "        ></iframe>\n",
       "        "
      ],
      "text/plain": [
       "<IPython.lib.display.IFrame at 0x7f81c451f850>"
      ]
     },
     "metadata": {},
     "output_type": "display_data"
    },
    {
     "name": "stderr",
     "output_type": "stream",
     "text": [
      "Traceback (most recent call last):\n",
      "  File \"/usr/local/lib/python3.7/dist-packages/gradio/app.py\", line 200, in predict\n",
      "    app.interface.process, raw_input\n",
      "  File \"/usr/local/lib/python3.7/dist-packages/starlette/concurrency.py\", line 39, in run_in_threadpool\n",
      "    return await anyio.to_thread.run_sync(func, *args)\n",
      "  File \"/usr/local/lib/python3.7/dist-packages/anyio/to_thread.py\", line 29, in run_sync\n",
      "    limiter=limiter)\n",
      "  File \"/usr/local/lib/python3.7/dist-packages/anyio/_backends/_asyncio.py\", line 818, in run_sync_in_worker_thread\n",
      "    return await future\n",
      "  File \"/usr/local/lib/python3.7/dist-packages/anyio/_backends/_asyncio.py\", line 754, in run\n",
      "    result = context.run(func, *args)\n",
      "  File \"/usr/local/lib/python3.7/dist-packages/gradio/interface.py\", line 531, in process\n",
      "    processed_input, return_duration=True\n",
      "  File \"/usr/local/lib/python3.7/dist-packages/gradio/interface.py\", line 487, in run_prediction\n",
      "    prediction = predict_fn(*processed_input)\n",
      "  File \"<ipython-input-44-e58e1c4dcc89>\", line 5, in final_predictions\n",
      "    sentence = [english_tokenizer.word_index[word] for word in text.split()]\n",
      "  File \"<ipython-input-44-e58e1c4dcc89>\", line 5, in <listcomp>\n",
      "    sentence = [english_tokenizer.word_index[word] for word in text.split()]\n",
      "KeyError: 'm'\n",
      "Traceback (most recent call last):\n",
      "  File \"/usr/local/lib/python3.7/dist-packages/gradio/app.py\", line 200, in predict\n",
      "    app.interface.process, raw_input\n",
      "  File \"/usr/local/lib/python3.7/dist-packages/starlette/concurrency.py\", line 39, in run_in_threadpool\n",
      "    return await anyio.to_thread.run_sync(func, *args)\n",
      "  File \"/usr/local/lib/python3.7/dist-packages/anyio/to_thread.py\", line 29, in run_sync\n",
      "    limiter=limiter)\n",
      "  File \"/usr/local/lib/python3.7/dist-packages/anyio/_backends/_asyncio.py\", line 818, in run_sync_in_worker_thread\n",
      "    return await future\n",
      "  File \"/usr/local/lib/python3.7/dist-packages/anyio/_backends/_asyncio.py\", line 754, in run\n",
      "    result = context.run(func, *args)\n",
      "  File \"/usr/local/lib/python3.7/dist-packages/gradio/interface.py\", line 531, in process\n",
      "    processed_input, return_duration=True\n",
      "  File \"/usr/local/lib/python3.7/dist-packages/gradio/interface.py\", line 487, in run_prediction\n",
      "    prediction = predict_fn(*processed_input)\n",
      "  File \"<ipython-input-44-e58e1c4dcc89>\", line 5, in final_predictions\n",
      "    sentence = [english_tokenizer.word_index[word] for word in text.split()]\n",
      "  File \"<ipython-input-44-e58e1c4dcc89>\", line 5, in <listcomp>\n",
      "    sentence = [english_tokenizer.word_index[word] for word in text.split()]\n",
      "KeyError: 'fine'\n",
      "Traceback (most recent call last):\n",
      "  File \"/usr/local/lib/python3.7/dist-packages/gradio/app.py\", line 200, in predict\n",
      "    app.interface.process, raw_input\n",
      "  File \"/usr/local/lib/python3.7/dist-packages/starlette/concurrency.py\", line 39, in run_in_threadpool\n",
      "    return await anyio.to_thread.run_sync(func, *args)\n",
      "  File \"/usr/local/lib/python3.7/dist-packages/anyio/to_thread.py\", line 29, in run_sync\n",
      "    limiter=limiter)\n",
      "  File \"/usr/local/lib/python3.7/dist-packages/anyio/_backends/_asyncio.py\", line 818, in run_sync_in_worker_thread\n",
      "    return await future\n",
      "  File \"/usr/local/lib/python3.7/dist-packages/anyio/_backends/_asyncio.py\", line 754, in run\n",
      "    result = context.run(func, *args)\n",
      "  File \"/usr/local/lib/python3.7/dist-packages/gradio/interface.py\", line 531, in process\n",
      "    processed_input, return_duration=True\n",
      "  File \"/usr/local/lib/python3.7/dist-packages/gradio/interface.py\", line 487, in run_prediction\n",
      "    prediction = predict_fn(*processed_input)\n",
      "  File \"<ipython-input-44-e58e1c4dcc89>\", line 5, in final_predictions\n",
      "    sentence = [english_tokenizer.word_index[word] for word in text.split()]\n",
      "  File \"<ipython-input-44-e58e1c4dcc89>\", line 5, in <listcomp>\n",
      "    sentence = [english_tokenizer.word_index[word] for word in text.split()]\n",
      "KeyError: 'I'\n",
      "Traceback (most recent call last):\n",
      "  File \"/usr/local/lib/python3.7/dist-packages/gradio/app.py\", line 200, in predict\n",
      "    app.interface.process, raw_input\n",
      "  File \"/usr/local/lib/python3.7/dist-packages/starlette/concurrency.py\", line 39, in run_in_threadpool\n",
      "    return await anyio.to_thread.run_sync(func, *args)\n",
      "  File \"/usr/local/lib/python3.7/dist-packages/anyio/to_thread.py\", line 29, in run_sync\n",
      "    limiter=limiter)\n",
      "  File \"/usr/local/lib/python3.7/dist-packages/anyio/_backends/_asyncio.py\", line 818, in run_sync_in_worker_thread\n",
      "    return await future\n",
      "  File \"/usr/local/lib/python3.7/dist-packages/anyio/_backends/_asyncio.py\", line 754, in run\n",
      "    result = context.run(func, *args)\n",
      "  File \"/usr/local/lib/python3.7/dist-packages/gradio/interface.py\", line 531, in process\n",
      "    processed_input, return_duration=True\n",
      "  File \"/usr/local/lib/python3.7/dist-packages/gradio/interface.py\", line 487, in run_prediction\n",
      "    prediction = predict_fn(*processed_input)\n",
      "  File \"<ipython-input-44-e58e1c4dcc89>\", line 5, in final_predictions\n",
      "    sentence = [english_tokenizer.word_index[word] for word in text.split()]\n",
      "  File \"<ipython-input-44-e58e1c4dcc89>\", line 5, in <listcomp>\n",
      "    sentence = [english_tokenizer.word_index[word] for word in text.split()]\n",
      "KeyError: 'love'\n"
     ]
    },
    {
     "name": "stdout",
     "output_type": "stream",
     "text": [
      "Keyboard interruption in main thread... closing server.\n"
     ]
    },
    {
     "data": {
      "text/plain": [
       "(<fastapi.applications.FastAPI at 0x7f81c3e32590>,\n",
       " 'http://127.0.0.1:7860/',\n",
       " 'https://34921.gradio.app')"
      ]
     },
     "execution_count": 49,
     "metadata": {},
     "output_type": "execute_result"
    }
   ],
   "source": [
    "#creating interface for gradio \n",
    "\n",
    "\n",
    "\n",
    "\n",
    "#lanuch the interface\n",
    "\n",
    "\n"
   ]
  },
  {
   "cell_type": "markdown",
   "metadata": {
    "id": "FsNgr_h-s9pU"
   },
   "source": [
    "We have come to an end of this project but don't stop here, try as many projects of the similar type to get a better understanding of the use cases. \n",
    "Solve the practice sheet of this project to test yourself.!!\n",
    "\n",
    "\n",
    "![](https://c.tenor.com/Irg9yU74Zo8AAAAM/woohoo-yeah.gif)\n",
    "\n",
    "Great job!! You have come to the end of this assignment. Treat yourself for this :))\n",
    "<br>\n",
    "# Do fill this [feedback form](https://forms.zohopublic.in/cloudyml/form/CloudyMLDeepLearningFeedbackForm/formperma/VCFbldnXAnbcgAIl0lWv2blgHdSldheO4RfktMdgK7s)\n",
    "<br>\n",
    "You may head on to the next project."
   ]
  }
 ],
 "metadata": {
  "accelerator": "GPU",
  "colab": {
   "collapsed_sections": [
    "L2pukCDIb7yT"
   ],
   "name": "Without_Code_English-French-Translator.ipynb",
   "provenance": [
    {
     "file_id": "1TTniKZT8gkghDmEJZPiJoXAE6AR2MuX2",
     "timestamp": 1643821766311
    },
    {
     "file_id": "https://github.com/projjal1/English-French-Translator-RNN/blob/master/English_French_Translator.ipynb",
     "timestamp": 1643375239879
    }
   ]
  },
  "kernelspec": {
   "display_name": "Python 3 (ipykernel)",
   "language": "python",
   "name": "python3"
  },
  "language_info": {
   "codemirror_mode": {
    "name": "ipython",
    "version": 3
   },
   "file_extension": ".py",
   "mimetype": "text/x-python",
   "name": "python",
   "nbconvert_exporter": "python",
   "pygments_lexer": "ipython3",
   "version": "3.11.5"
  }
 },
 "nbformat": 4,
 "nbformat_minor": 1
}
